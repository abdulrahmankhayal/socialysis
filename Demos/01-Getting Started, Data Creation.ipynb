{
 "cells": [
  {
   "cell_type": "markdown",
   "id": "d43423d1",
   "metadata": {},
   "source": [
    "## Importing the Library\n",
    "To use the library, the `Stats` module needs to be imported.\n"
   ]
  },
  {
   "cell_type": "code",
   "execution_count": 1,
   "id": "70de4938",
   "metadata": {},
   "outputs": [],
   "source": [
    "from socialysis import Stats\n"
   ]
  },
  {
   "cell_type": "markdown",
   "id": "8b2349df",
   "metadata": {},
   "source": [
    "## Processing Raw Data\n",
    "Before you can use the library, your data needs to be processed first. The `Stats` function will extract the data and convert Facebook JSONs to a shape that is easier to manipulate.\n",
    "\n",
    "To initialize the `Stats` Class, pass it the directory where your raw data is located. For example:\n",
    "\n"
   ]
  },
  {
   "cell_type": "code",
   "execution_count": 2,
   "id": "3d7270a9",
   "metadata": {},
   "outputs": [],
   "source": [
    "base = r\"C:\\Users\\user\\Downloads\\facebook-user\""
   ]
  },
  {
   "cell_type": "markdown",
   "id": "b3f0ace9",
   "metadata": {},
   "source": [
    "Then call the `Stats` to process the raw data and generate a more readable and processable format."
   ]
  },
  {
   "cell_type": "code",
   "execution_count": 3,
   "id": "8ceb550a",
   "metadata": {},
   "outputs": [
    {
     "name": "stdout",
     "output_type": "stream",
     "text": [
      "Parsing Data ...\n"
     ]
    },
    {
     "name": "stderr",
     "output_type": "stream",
     "text": [
      "100%|████████████████████████████████████████████████████████████████████████████████| 102/102 [02:36<00:00,  1.54s/it]\n"
     ]
    },
    {
     "name": "stdout",
     "output_type": "stream",
     "text": [
      "Building df ...\n",
      "Convert Timestamps to DateTime format ...\n"
     ]
    },
    {
     "name": "stderr",
     "output_type": "stream",
     "text": [
      "100%|████████████████████████████████████████████████████████████████████████| 140624/140624 [00:14<00:00, 9991.88it/s]\n"
     ]
    }
   ],
   "source": [
    "stats = Stats(base)"
   ]
  },
  {
   "cell_type": "markdown",
   "id": "1714df9f",
   "metadata": {},
   "source": [
    "## Customizing Data Generating\n",
    "\n",
    "`Stats` has several parameters that can be used to customize the data generation process.\n"
   ]
  },
  {
   "cell_type": "markdown",
   "id": "ecbdcb49",
   "metadata": {},
   "source": [
    "### Speeding Up the Process with Parallelization\n",
    "\n",
    "To speed up the process, you can set the `parallel` parameter to `True` and specify the maximum number of threads to use with the `max_workers` parameter. By default, only two threads are used.\n",
    "\n"
   ]
  },
  {
   "cell_type": "code",
   "execution_count": 4,
   "id": "9b6a24ea",
   "metadata": {},
   "outputs": [
    {
     "name": "stdout",
     "output_type": "stream",
     "text": [
      "Getting Audio Files Duration In Parallel ...\n"
     ]
    },
    {
     "name": "stderr",
     "output_type": "stream",
     "text": [
      "100%|█████████████████████████████████████████████████████████████████████████████| 2386/2386 [00:23<00:00, 101.26it/s]\n"
     ]
    },
    {
     "name": "stdout",
     "output_type": "stream",
     "text": [
      "Parsing Data ...\n"
     ]
    },
    {
     "name": "stderr",
     "output_type": "stream",
     "text": [
      "100%|████████████████████████████████████████████████████████████████████████████████| 102/102 [00:02<00:00, 44.50it/s]\n"
     ]
    },
    {
     "name": "stdout",
     "output_type": "stream",
     "text": [
      "Building df ...\n",
      "Convert Timestamps to DateTime format ...\n"
     ]
    },
    {
     "name": "stderr",
     "output_type": "stream",
     "text": [
      "100%|███████████████████████████████████████████████████████████████████████| 140624/140624 [00:13<00:00, 10192.36it/s]\n"
     ]
    }
   ],
   "source": [
    "stats = Stats(base, parallel=True, max_workers=16)\n"
   ]
  },
  {
   "cell_type": "markdown",
   "id": "ce25e744",
   "metadata": {},
   "source": [
    "### Discarding Audio Data\n",
    "Processing audio files is a computationally intensive process, especially if your data contains a lot of audio files. If you don't need to gain insights about your audio data, you can discard it by setting the `process_audio` parameter to `False`."
   ]
  },
  {
   "cell_type": "code",
   "execution_count": 5,
   "id": "dd472464",
   "metadata": {},
   "outputs": [
    {
     "name": "stdout",
     "output_type": "stream",
     "text": [
      "Parsing Data ...\n"
     ]
    },
    {
     "name": "stderr",
     "output_type": "stream",
     "text": [
      "100%|████████████████████████████████████████████████████████████████████████████████| 102/102 [00:02<00:00, 46.16it/s]\n"
     ]
    },
    {
     "name": "stdout",
     "output_type": "stream",
     "text": [
      "Building df ...\n",
      "Convert Timestamps to DateTime format ...\n"
     ]
    },
    {
     "name": "stderr",
     "output_type": "stream",
     "text": [
      "100%|███████████████████████████████████████████████████████████████████████| 140624/140624 [00:13<00:00, 10286.33it/s]\n"
     ]
    }
   ],
   "source": [
    "stats = Stats(base, process_audio=False)\n"
   ]
  },
  {
   "cell_type": "markdown",
   "id": "5e62e2bc",
   "metadata": {},
   "source": [
    "### Changing the Time Unit of Duration\n",
    "By default, the duration of all of your audio, video, and calls is calculated in seconds. You can change this behavior by using the dur_unit parameter. `dur_unit` accepts one time unit out of `\"sec\"`, `\"minute\"`, `\"hour\"`, `\"day\"`."
   ]
  },
  {
   "cell_type": "code",
   "execution_count": 6,
   "id": "b84c300e",
   "metadata": {},
   "outputs": [
    {
     "name": "stdout",
     "output_type": "stream",
     "text": [
      "Parsing Data ...\n"
     ]
    },
    {
     "name": "stderr",
     "output_type": "stream",
     "text": [
      "100%|████████████████████████████████████████████████████████████████████████████████| 102/102 [02:20<00:00,  1.38s/it]\n"
     ]
    },
    {
     "name": "stdout",
     "output_type": "stream",
     "text": [
      "Building df ...\n",
      "Convert Timestamps to DateTime format ...\n"
     ]
    },
    {
     "name": "stderr",
     "output_type": "stream",
     "text": [
      "100%|███████████████████████████████████████████████████████████████████████| 140624/140624 [00:13<00:00, 10385.96it/s]\n"
     ]
    }
   ],
   "source": [
    "stats = Stats(base, dur_unit=\"minute\")\n"
   ]
  },
  {
   "cell_type": "markdown",
   "id": "5659e581",
   "metadata": {},
   "source": [
    "## Other Useful Methods"
   ]
  },
  {
   "cell_type": "markdown",
   "id": "a99c1362",
   "metadata": {},
   "source": [
    "### Saving and Restoring Data\n",
    "The `freeze` method saves your data to be restored in a later time. This allows you to avoid regenerating the data every time you need to use it.\n",
    "\n"
   ]
  },
  {
   "cell_type": "code",
   "execution_count": 7,
   "id": "20040700",
   "metadata": {},
   "outputs": [],
   "source": [
    "stats.freeze()\n"
   ]
  },
  {
   "cell_type": "markdown",
   "id": "2f5c9932",
   "metadata": {},
   "source": [
    "To restore the data instead of regenerating it, use the `restore` parameter when calling the `Stats` function.\n",
    "\n"
   ]
  },
  {
   "cell_type": "code",
   "execution_count": 8,
   "id": "7052feef",
   "metadata": {},
   "outputs": [],
   "source": [
    "stats = Stats(restore=True)\n"
   ]
  },
  {
   "cell_type": "markdown",
   "id": "708f0b60",
   "metadata": {},
   "source": [
    "### Updating Data\n",
    "\n",
    "The `.update` method can be used to add new data to an existing dataframe without the need to re-download the entire dataset. It allows you to add data that is either chronologically before or after the existing data. This can be useful if you have downloaded your Facebook data at different times and want to combine the data into a single dataframe. The `.update` method allows you to add data that is chronologically before or after the existing data. The `.first_msg_date` and `.last_msg_date` attributes can be used to check the time range of the current data. This information can be useful when deciding which new data to add using the `.update` method. For example, if the `.first_msg_date` is January 1, 2021 and the `.last_msg_date` is December 31, 2021, you can use .update to add data from January 1, 2020 to December 31, 2020 or from January 1, 2022 to December 31, 2022."
   ]
  },
  {
   "cell_type": "code",
   "execution_count": 9,
   "id": "53db625d",
   "metadata": {},
   "outputs": [
    {
     "data": {
      "text/plain": [
       "'2021-07-12 22:00:28.711000'"
      ]
     },
     "execution_count": 9,
     "metadata": {},
     "output_type": "execute_result"
    }
   ],
   "source": [
    "stats.first_msg_date"
   ]
  },
  {
   "cell_type": "code",
   "execution_count": 10,
   "id": "3ed7c285",
   "metadata": {},
   "outputs": [
    {
     "data": {
      "text/plain": [
       "'2022-05-28 20:45:20.301000'"
      ]
     },
     "execution_count": 10,
     "metadata": {},
     "output_type": "execute_result"
    }
   ],
   "source": [
    "stats.last_msg_date"
   ]
  },
  {
   "cell_type": "markdown",
   "id": "e239603e",
   "metadata": {},
   "source": [
    "To update the data using the `.update` method, you need to pass the directory containing the new data as an argument, along with any other relevant parameters such as `parallel` and `process_audio`. You also need to specify whether the new data is chronologically before or after the existing data using `after` parameter"
   ]
  },
  {
   "cell_type": "code",
   "execution_count": 11,
   "id": "2ff74e65",
   "metadata": {},
   "outputs": [
    {
     "name": "stdout",
     "output_type": "stream",
     "text": [
      "Getting Audio Files Duration In Parallel ...\n"
     ]
    },
    {
     "name": "stderr",
     "output_type": "stream",
     "text": [
      "100%|█████████████████████████████████████████████████████████████████████████████| 3586/3586 [00:35<00:00, 100.71it/s]\n"
     ]
    },
    {
     "name": "stdout",
     "output_type": "stream",
     "text": [
      "Parsing Data ...\n"
     ]
    },
    {
     "name": "stderr",
     "output_type": "stream",
     "text": [
      "100%|████████████████████████████████████████████████████████████████████████████████| 149/149 [00:03<00:00, 39.53it/s]\n"
     ]
    },
    {
     "name": "stdout",
     "output_type": "stream",
     "text": [
      "Building df ...\n",
      "Convert Timestamps to DateTime format ...\n"
     ]
    },
    {
     "name": "stderr",
     "output_type": "stream",
     "text": [
      "100%|███████████████████████████████████████████████████████████████████████| 183666/183666 [00:18<00:00, 10146.73it/s]\n"
     ]
    }
   ],
   "source": [
    "new_base=r'C:\\Users\\user\\Downloads\\facebook-user (2)'\n",
    "stats.update(new_base,after=True,parallel=True,max_workers=16)"
   ]
  },
  {
   "cell_type": "code",
   "execution_count": 12,
   "id": "2b0467c7",
   "metadata": {},
   "outputs": [
    {
     "data": {
      "text/plain": [
       "('2021-07-12 22:00:28.711000', '2022-09-24 07:57:32.235000')"
      ]
     },
     "execution_count": 12,
     "metadata": {},
     "output_type": "execute_result"
    }
   ],
   "source": [
    "#Our data is now up-to-date.\n",
    "stats.first_msg_date,stats.last_msg_date"
   ]
  },
  {
   "cell_type": "code",
   "execution_count": null,
   "id": "c5103bfa",
   "metadata": {},
   "outputs": [],
   "source": []
  }
 ],
 "metadata": {
  "kernelspec": {
   "display_name": "Python 3 (ipykernel)",
   "language": "python",
   "name": "python3"
  },
  "language_info": {
   "codemirror_mode": {
    "name": "ipython",
    "version": 3
   },
   "file_extension": ".py",
   "mimetype": "text/x-python",
   "name": "python",
   "nbconvert_exporter": "python",
   "pygments_lexer": "ipython3",
   "version": "3.9.7"
  }
 },
 "nbformat": 4,
 "nbformat_minor": 5
}
